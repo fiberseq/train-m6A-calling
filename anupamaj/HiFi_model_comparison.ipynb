{
 "cells": [
  {
   "cell_type": "markdown",
   "id": "b6f8da59-5390-4560-99f2-f5bbe78a5c2d",
   "metadata": {},
   "source": [
    "# Comparing M6A ML models (HIFI read models)"
   ]
  },
  {
   "cell_type": "code",
   "execution_count": 4,
   "id": "649d8db4-25a5-487d-bf74-a8b644215672",
   "metadata": {},
   "outputs": [],
   "source": [
    "# Get all the requisite imports\n",
    "import torch\n",
    "import numpy as np\n",
    "import matplotlib.pyplot as plt\n",
    "import sklearn.metrics as metrics\n",
    "import pandas as pd\n",
    "import requests\n",
    "import io\n",
    "import xgboost as xgb \n",
    "from m6a_calling import M6ANet\n",
    "from torchsummary import summary\n",
    "\n",
    "from sklearn.metrics import (confusion_matrix,\n",
    "                             accuracy_score,\n",
    "                             precision_score,\n",
    "                             recall_score,\n",
    "                             f1_score,\n",
    "                             balanced_accuracy_score,\n",
    "                             matthews_corrcoef,\n",
    "                             roc_auc_score,\n",
    "                             average_precision_score,\n",
    "                             roc_curve,\n",
    "                             precision_recall_curve\n",
    "                             )"
   ]
  },
  {
   "cell_type": "markdown",
   "id": "308c940b-1995-4353-8cf7-e13cce06da17",
   "metadata": {},
   "source": [
    "### Read in the HiFi test data"
   ]
  },
  {
   "cell_type": "code",
   "execution_count": null,
   "id": "3b66ab53-6523-411a-b7be-5bc46911cc7c",
   "metadata": {},
   "outputs": [],
   "source": [
    "# HiFi data\n",
    "\n",
    "data_path = \"../data/deprecated-data-2022-10-19/m6A_test_other_half_hifi.npz\"\n",
    "\n",
    "train_val_data = np.load(data_path, allow_pickle=True)\n",
    "\n",
    "# Get the dictionary from the containing relevant data\n",
    "train_val_data = train_val_data['save_data_dict'][()]\n",
    "\n",
    "# Load test features and labels\n",
    "X_test = train_val_data['X_test']\n",
    "y_test = train_val_data['y_test']"
   ]
  },
  {
   "cell_type": "markdown",
   "id": "d8e870df-0828-40b2-a2ef-c1783ff94c69",
   "metadata": {},
   "source": [
    "### Predict using the CNN model"
   ]
  },
  {
   "cell_type": "code",
   "execution_count": null,
   "id": "80a47e2b-7d85-4ce0-b75f-235dc1fdd791",
   "metadata": {},
   "outputs": [],
   "source": [
    "m6a_model = torch.load(\"models/m6ANet_PS00075_no_init.3.best.torch\", map_location=torch.device('cpu'))\n",
    "\n",
    "X_test = torch.Tensor(X_test)\n",
    "test_pred_cnn = m6a_model.predict(X_test, device='cpu').detach().numpy()"
   ]
  },
  {
   "cell_type": "markdown",
   "id": "29b18063-fbdd-4570-b182-e418a375278a",
   "metadata": {},
   "source": [
    "### Predict using the XGBoost model"
   ]
  },
  {
   "cell_type": "code",
   "execution_count": null,
   "id": "3b474c21-3345-48fb-ba31-f0dad569c612",
   "metadata": {},
   "outputs": [],
   "source": [
    "bst2 = xgb.Booster({'nthread': 4})  # init model\n",
    "bst2.load_model('models/xgboost.otherhalf.hifi.100rds.json')  # load data\n",
    "\n",
    "X_test_2d = X_test.reshape(X_test.shape[0], X_test.shape[1] * X_test.shape[2])\n",
    "\n",
    "dtest = xgb.DMatrix(X_test_2d)\n",
    "test_pred_xgb = bst2.predict(dtest)"
   ]
  },
  {
   "cell_type": "markdown",
   "id": "18b5f3ab-d132-44ff-bc52-1b5a1170a0cb",
   "metadata": {},
   "source": [
    "### Plot ROC curve for XGBoost and CNN models"
   ]
  },
  {
   "cell_type": "code",
   "execution_count": null,
   "id": "8c892a1d-42cf-480d-a57e-ae6cc2fcd8a4",
   "metadata": {},
   "outputs": [],
   "source": [
    "plt.figure(figsize=(10,5))\n",
    "plt.axline([0,0], slope=1, c=\"black\")\n",
    "\n",
    "fpr, tpr, thresholds = metrics.roc_curve(y_test[:, 0], test_pred_cnn[:, 0], pos_label=1)\n",
    "print(f\"AUC-ROC CNN: {metrics.auc(fpr, tpr):.03f}\")\n",
    "plt.plot(fpr, tpr, c='gray', label=f\"CNN-AUROC: {metrics.auc(fpr, tpr):.04f}\")\n",
    "\n",
    "fpr, tpr, thresholds = metrics.roc_curve(y_test[:, 0], test_pred_xgb, pos_label=1)\n",
    "print(f\"AUC-ROC XGBoost: {metrics.auc(fpr, tpr):.03f}\")\n",
    "plt.plot(fpr, tpr, c='blue', label=f\"XGBoost-AUROC: {metrics.auc(fpr, tpr):.04f}\")\n",
    "\n",
    "\n",
    "plt.legend(bbox_to_anchor=(1.1, 1.05))\n",
    "plt.title(\"ROC curve\")\n",
    "plt.xlabel(\"FPR\")\n",
    "plt.ylabel(\"TPR\")\n",
    "#plt.xlim([-0.1, 1.1])\n",
    "#plt.ylim([0, 1.1])\n",
    "plt.tight_layout()\n",
    "plt.savefig(\"figures/roc_compare_hifi.png\")\n",
    "plt.plot()\n"
   ]
  },
  {
   "cell_type": "markdown",
   "id": "0f880120-a58e-4f9d-be3a-12b956551194",
   "metadata": {},
   "source": [
    "### Focus on 1% FPR with the ROC curve"
   ]
  },
  {
   "cell_type": "code",
   "execution_count": null,
   "id": "bd000c1e-1d0b-4c1e-859f-798ecd708d59",
   "metadata": {},
   "outputs": [],
   "source": [
    "plt.figure(figsize=(10,5))\n",
    "#plt.axline([0,0], slope=1, c=\"black\")\n",
    "\n",
    "fpr, tpr, thresholds = metrics.roc_curve(y_test[:, 0], test_pred_cnn[:, 0], pos_label=1)\n",
    "\n",
    "idx_fpr = np.where(fpr <= 0.050)[0]\n",
    "\n",
    "thr_last = thresholds[idx_fpr][-1]\n",
    "\n",
    "print(f\"AUC-ROC CNN: {metrics.auc(fpr, tpr):.04f}\")\n",
    "plt.plot(fpr[idx_fpr], tpr[idx_fpr], c='gray', label=f\"CNN-AUROC: {metrics.auc(fpr, tpr):.04f}\")\n",
    "\n",
    "fpr, tpr, thresholds = metrics.roc_curve(y_test[:, 0], test_pred_xgb, pos_label=1)\n",
    "idx_fpr = np.where(fpr <= 0.050)[0]\n",
    "\n",
    "thr_last = thresholds[idx_fpr][-1]\n",
    "\n",
    "print(f\"AUC-ROC XGBoost: {metrics.auc(fpr, tpr):.04f}\")\n",
    "plt.plot(fpr[idx_fpr], tpr[idx_fpr], c='blue', label=f\"XGBoost-AUROC: {metrics.auc(fpr, tpr):.04f}\")\n",
    "\n",
    "\n",
    "plt.legend(bbox_to_anchor=(1.1, 1.05))\n",
    "plt.title(\"ROC curve\")\n",
    "plt.xlabel(\"FPR\")\n",
    "plt.ylabel(\"TPR\")\n",
    "#plt.xlim([-0.1, 1.1])\n",
    "#plt.ylim([0, 1.1])\n",
    "plt.tight_layout()\n",
    "plt.savefig(\"figures/roc_compare_hifi_fdr_1.png\")\n",
    "plt.plot()\n"
   ]
  },
  {
   "cell_type": "markdown",
   "id": "d5f3a81e-d891-4036-a091-13f175f7fc81",
   "metadata": {},
   "source": [
    "### Plot the PR curve using XGBoost and CNN predictions on HiFi data"
   ]
  },
  {
   "cell_type": "code",
   "execution_count": null,
   "id": "061439ec-6ba9-4a6f-9334-f9bbbc182172",
   "metadata": {},
   "outputs": [],
   "source": [
    "plt.figure(figsize=(8,5))\n",
    "plt.axline([0,0], slope=1, c=\"white\")\n",
    "plt.axline([0,1], slope=-1, c=\"black\")\n",
    "precision, recall, thresholds = metrics.precision_recall_curve(y_test[:, 0], test_pred_cnn[:, 0], pos_label=1)\n",
    "print(f\"AU-PR CNN: {metrics.average_precision_score(y_test[:, 0], test_pred_cnn[:, 0])}\")\n",
    "plt.plot(recall, precision, c='gray', label=f\"CNN-AUPR: {metrics.average_precision_score(y_test[:, 0], test_pred_cnn[:, 0]):.03f}\")\n",
    "\n",
    "precision, recall, thresholds = metrics.precision_recall_curve(y_test[:, 0], test_pred_xgb, pos_label=1)\n",
    "print(f\"AU-PR XGBoost: {metrics.average_precision_score(y_test[:, 0], test_pred_xgb)}\")\n",
    "plt.plot(recall, precision, c='blue', label=f\"XGBoost-AUPR: {metrics.average_precision_score(y_test[:, 0], test_pred_xgb):.03f}\")\n",
    "\n",
    "\n",
    "plt.legend(bbox_to_anchor=(1.1, 1.05))\n",
    "plt.title(\"PR curve\")\n",
    "plt.xlabel(\"Recall\")\n",
    "plt.ylabel(\"Precision\")\n",
    "#plt.xlim([0, 1])\n",
    "#plt.ylim([0, 1])\n",
    "plt.tight_layout()\n",
    "plt.savefig(\"figures/pr_compare_hifi.png\")\n",
    "plt.plot()"
   ]
  },
  {
   "cell_type": "markdown",
   "id": "90519dd9-0f46-42d4-887b-4067e75cffef",
   "metadata": {},
   "source": [
    "### Save model for RUST"
   ]
  },
  {
   "cell_type": "code",
   "execution_count": null,
   "id": "86f3fed8-bb44-474f-8aff-20382b24b7f5",
   "metadata": {},
   "outputs": [],
   "source": [
    "m6a_model = torch.load(\"models/m6ANet_PS00075.best.torch\", map_location=torch.device('cpu'))\n",
    "example = torch.rand(1, 6, 15)\n",
    "traced_script_module = torch.jit.trace(m6a_model, example)\n",
    "traced_script_module.save(\"models/m6ANet_PS00075.best.torch.pt\")\n"
   ]
  },
  {
   "cell_type": "code",
   "execution_count": null,
   "id": "ced8be19-aeed-4451-83f7-369b8efe0490",
   "metadata": {},
   "outputs": [],
   "source": [
    "m6a_model = torch.load(\"models/m6ANet_other_half_hifi.3.best.torch\", map_location=torch.device('cpu'))\n",
    "example = torch.rand(1, 6, 15)\n",
    "traced_script_module = torch.jit.trace(m6a_model, example)\n",
    "traced_script_module.save(\"models/m6ANet_other_half_hifi.3.best.torch_nn.pt\")\n"
   ]
  },
  {
   "cell_type": "markdown",
   "id": "55e724b6-173e-4517-a79d-d22ca95d75d5",
   "metadata": {},
   "source": [
    "## Test on different data"
   ]
  },
  {
   "cell_type": "code",
   "execution_count": null,
   "id": "91942abe-b225-426c-99f1-b465b7223132",
   "metadata": {},
   "outputs": [],
   "source": [
    "val_path = \"/net/noble/vol4/noble/user/anupamaj/proj/m6A-calling/data/PS00075_2_2022-10-17.npz\"\n",
    "input_size = 6\n",
    "# Load validation data\n",
    "val_data = np.load(val_path, allow_pickle=True)\n",
    "X_val = val_data['features'][:, 0:input_size, :]\n",
    "y_val = val_data['labels']\n",
    "    \n",
    "y_val_ohe = np.zeros((len(y_val), 2))\n",
    "y_val_ohe[np.where(y_val == 1)[0], 0] = 1\n",
    "y_val_ohe[np.where(y_val == 0)[0], 1] = 1"
   ]
  },
  {
   "cell_type": "code",
   "execution_count": null,
   "id": "e5bfc797-4f42-4249-8fa1-99ffc6dc436a",
   "metadata": {},
   "outputs": [],
   "source": [
    "m6a_model = torch.load(\"models/m6ANet_PS00075_no_init.3.best.torch\")\n",
    "#, map_location=torch.device('cpu')\n",
    "# Print model architecture summary\n",
    "summary_str = summary(m6a_model, input_size=(6, 15))\n",
    "\n",
    "X_val = torch.Tensor(X_val)\n",
    "val_pred_cnn = m6a_model.predict(X_val, device='cpu').detach().numpy()"
   ]
  },
  {
   "cell_type": "code",
   "execution_count": null,
   "id": "8b1a3416-3ab1-4816-8c5a-a1969096910c",
   "metadata": {},
   "outputs": [],
   "source": [
    "bst2 = xgb.Booster({'nthread': 4})  # init model\n",
    "bst2.load_model('models/xgboost.otherhalf.hifi.100rds.json')  # load data\n",
    "\n",
    "X_val_2d = X_val.reshape(X_val.shape[0], X_val.shape[1] * X_val.shape[2])\n",
    "\n",
    "dval = xgb.DMatrix(X_val_2d)\n",
    "val_pred_xgb = bst2.predict(dval)"
   ]
  },
  {
   "cell_type": "code",
   "execution_count": null,
   "id": "668aa8eb-ef98-404d-bb06-5d455dc1f378",
   "metadata": {},
   "outputs": [],
   "source": [
    "plt.figure(figsize=(10,5))\n",
    "plt.axline([0,0], slope=1, c=\"black\")\n",
    "\n",
    "fpr, tpr, thresholds = metrics.roc_curve(y_val_ohe[:, 0], val_pred_cnn[:, 0], pos_label=1)\n",
    "print(f\"AUC-ROC CNN: {metrics.auc(fpr, tpr):.03f}\")\n",
    "plt.plot(fpr, tpr, c='gray', label=f\"CNN-AUROC: {metrics.auc(fpr, tpr):.04f}\")\n",
    "\n",
    "\n",
    "plt.legend(bbox_to_anchor=(1.1, 1.05))\n",
    "plt.title(\"ROC curve\")\n",
    "plt.xlabel(\"FPR\")\n",
    "plt.ylabel(\"TPR\")\n",
    "#plt.xlim([-0.1, 1.1])\n",
    "#plt.ylim([0, 1.1])\n",
    "plt.tight_layout()\n",
    "plt.savefig(\"figures/roc_compare_hifi_PS00075.png\")\n",
    "plt.plot()\n"
   ]
  },
  {
   "cell_type": "code",
   "execution_count": null,
   "id": "3c82e4f2-999f-4f48-b362-157e643035f5",
   "metadata": {},
   "outputs": [],
   "source": [
    "plt.figure(figsize=(10,5))\n",
    "#plt.axline([0,0], slope=1, c=\"black\")\n",
    "\n",
    "fpr, tpr, thresholds = metrics.roc_curve(y_val_ohe[:, 0], val_pred_cnn[:, 0], pos_label=1)\n",
    "\n",
    "idx_fpr = np.where(fpr <= 0.050)[0]\n",
    "\n",
    "thr_last = thresholds[idx_fpr][-1]\n",
    "print(thresholds[idx_fpr])\n",
    "\n",
    "print(thr_last)\n",
    "\n",
    "print(f\"AUC-ROC CNN: {metrics.auc(fpr, tpr):.04f}\")\n",
    "plt.plot(fpr[idx_fpr], tpr[idx_fpr], c='gray', label=f\"CNN-AUROC: {metrics.auc(fpr, tpr):.04f}\")\n",
    "\n",
    "\n",
    "plt.legend(bbox_to_anchor=(1.1, 1.05))\n",
    "plt.title(\"ROC curve\")\n",
    "plt.xlabel(\"FPR\")\n",
    "plt.ylabel(\"TPR\")\n",
    "#plt.xlim([-0.1, 1.1])\n",
    "#plt.ylim([0, 1.1])\n",
    "plt.tight_layout()\n",
    "plt.savefig(\"figures/roc_compare_hifi_fdr_1_PS00075.png\")\n",
    "plt.plot()\n"
   ]
  },
  {
   "cell_type": "code",
   "execution_count": null,
   "id": "e4868d77-9ca5-4de5-870d-b5c89d2f5e94",
   "metadata": {},
   "outputs": [],
   "source": [
    "plt.figure(figsize=(8,5))\n",
    "plt.axline([0,0], slope=1, c=\"white\")\n",
    "plt.axline([0,1], slope=-1, c=\"black\")\n",
    "precision, recall, thresholds = metrics.precision_recall_curve(y_val_ohe[:, 0], val_pred_cnn[:, 0], pos_label=1)\n",
    "print(f\"AU-PR CNN: {metrics.average_precision_score(y_val_ohe[:, 0], val_pred_cnn[:, 0])}\")\n",
    "plt.plot(recall, precision, c='gray', label=f\"CNN-AUPR: {metrics.average_precision_score(y_val_ohe[:, 0], val_pred_cnn[:, 0]):.03f}\")\n",
    "\n",
    "\n",
    "plt.legend(bbox_to_anchor=(1.1, 1.05))\n",
    "plt.title(\"PR curve\")\n",
    "plt.xlabel(\"Recall\")\n",
    "plt.ylabel(\"Precision\")\n",
    "#plt.xlim([0, 1])\n",
    "#plt.ylim([0, 1])\n",
    "plt.tight_layout()\n",
    "plt.savefig(\"figures/pr_compare_hifi_PS00075.png\")\n",
    "plt.plot()"
   ]
  },
  {
   "cell_type": "code",
   "execution_count": null,
   "id": "dcb3c867-ccd2-4f67-aa7f-316da34c5aac",
   "metadata": {},
   "outputs": [],
   "source": [
    "plt.figure(figsize=(8,5))\n",
    "#plt.axline([0,0], slope=1, c=\"white\")\n",
    "#plt.axline([0,1], slope=-1, c=\"black\")\n",
    "precision, recall, thresholds = metrics.precision_recall_curve(y_val_ohe[:, 0], val_pred_cnn[:, 0], pos_label=1)\n",
    "print(len(precision), len(thresholds))\n",
    "print(f\"AU-PR CNN: {metrics.average_precision_score(y_val_ohe[:, 0], val_pred_cnn[:, 0])}\")\n",
    "plt.plot(thresholds, precision[1:], c='gray', label=f\"threshold vs precision\")\n",
    "plt.plot(thresholds, recall[1:], c='red', label=f\"threshold vs recall\")\n",
    "\n",
    "\n",
    "plt.legend(bbox_to_anchor=(1.1, 1.05))\n",
    "#plt.title(\"threshold vs precision\")\n",
    "plt.xlabel(\"thresholds\")\n",
    "#plt.ylabel(\"Precision\")\n",
    "#plt.xlim([0, 1])\n",
    "#plt.ylim([0, 1])\n",
    "plt.tight_layout()\n",
    "plt.savefig(\"figures/pr_compare_hifi_PS00075.png\")\n",
    "plt.plot()"
   ]
  },
  {
   "cell_type": "markdown",
   "id": "89f44aca-5bae-4e92-bd7e-98834f7e5864",
   "metadata": {},
   "source": [
    "## Save the 2.0 chemistry supervised model"
   ]
  },
  {
   "cell_type": "code",
   "execution_count": null,
   "id": "974508c4-4cee-4eec-b89f-b84b867e7581",
   "metadata": {},
   "outputs": [],
   "source": [
    "m6a_model = torch.load(\"models/m6ANet_PS00075_no_init.3.best.torch\", map_location=torch.device('cpu'))\n",
    "example = torch.rand(1, 6, 15)\n",
    "traced_script_module = torch.jit.trace(m6a_model, example)\n",
    "traced_script_module.save(\"models/m6ANet_PS00075_no_init.3.best.torch.pt\")\n"
   ]
  },
  {
   "cell_type": "markdown",
   "id": "60198522-2463-4cc1-88f2-a91083309063",
   "metadata": {},
   "source": [
    "## Save the 2.2 chemistry supervised model"
   ]
  },
  {
   "cell_type": "code",
   "execution_count": null,
   "id": "7caf121a-31e4-4247-b3af-ae87ae263e70",
   "metadata": {},
   "outputs": [],
   "source": [
    "m6a_model = torch.load(\"models/m6ANet_PS00109_no_init.3.best.torch\", map_location=torch.device('cpu'))\n",
    "example = torch.rand(1, 6, 15)\n",
    "traced_script_module = torch.jit.trace(m6a_model, example)\n",
    "traced_script_module.save(\"models/m6ANet_PS00109_no_init.3.best.torch.pt\")"
   ]
  },
  {
   "cell_type": "markdown",
   "id": "d21a0ed6-8909-4eaa-ab9e-75d74ebb23fa",
   "metadata": {},
   "source": [
    "## Save the 2.0 semi-supervised model"
   ]
  },
  {
   "cell_type": "code",
   "execution_count": 100,
   "id": "4acce8f1-81e8-477b-9793-324ed45df3fd",
   "metadata": {},
   "outputs": [],
   "source": [
    "m6a_model = torch.load(\"models/m6ANet_PS00075_no_init.3.best_semi-supervised.torch\", map_location=torch.device('cpu'))\n",
    "example = torch.rand(1, 6, 15)\n",
    "traced_script_module = torch.jit.trace(m6a_model, example)\n",
    "traced_script_module.save(\"models/m6ANet_PS00075_no_init.3.best_semi-supervised.torch.pt\")"
   ]
  },
  {
   "cell_type": "markdown",
   "id": "c5ebeb5e-12a1-492a-b76f-e65616495095",
   "metadata": {},
   "source": [
    "## Save the 2.2 chemistry semi-supervised model"
   ]
  },
  {
   "cell_type": "code",
   "execution_count": 101,
   "id": "6b88214c-511c-4049-9526-fe39cf226ee7",
   "metadata": {},
   "outputs": [],
   "source": [
    "m6a_model = torch.load(\"models/m6ANet_PS00109_no_init.3.best_semi-supervised.torch\", map_location=torch.device('cpu'))\n",
    "example = torch.rand(1, 6, 15)\n",
    "traced_script_module = torch.jit.trace(m6a_model, example)\n",
    "traced_script_module.save(\"models/m6ANet_PS00109_no_init.3.best_semi-supervised.torch.pt\")"
   ]
  },
  {
   "cell_type": "markdown",
   "id": "84592732-74c9-4c32-b7be-fe2a91aa2a97",
   "metadata": {},
   "source": [
    "## Test the semi-supervised model"
   ]
  },
  {
   "cell_type": "markdown",
   "id": "3d1f704e-5163-400b-9c6e-912b04858850",
   "metadata": {},
   "source": [
    "### Save 1% of the data as validation set. "
   ]
  },
  {
   "cell_type": "code",
   "execution_count": null,
   "id": "f0bfb50b-cd3c-49e2-9f21-d68c1f192970",
   "metadata": {},
   "outputs": [],
   "source": [
    "import numpy as np\n",
    "\n",
    "val_path = \"/net/noble/vol4/noble/user/anupamaj/proj/m6A-calling/data/PS00075_1.npz\"\n",
    "\n",
    "input_size=6\n",
    "\n",
    "val_data = np.load(val_path, allow_pickle=True)\n",
    "X_val = val_data['features'][:, 0:input_size, :]\n",
    "y_val = val_data['labels']\n",
    "\n",
    "# Take 1% val labels\n",
    "rand_val = np.random.choice(np.arange(len(y_val), dtype=int), size=(int(0.1 * len(y_val)),), replace=False)\n",
    "\n",
    "X_val = X_val[rand_val, :, :]\n",
    "y_val = y_val[rand_val]\n",
    "\n",
    "save_path = \"/net/noble/vol4/noble/user/anupamaj/proj/m6A-calling/data/PS00075_1_10percent.npz\"\n",
    "\n",
    "np.savez(save_path, X_val=X_val, y_val=y_val)\n",
    "print(f\"Validation features shape {X_val.shape}, validation labels shape: {y_val.shape}\")"
   ]
  },
  {
   "cell_type": "markdown",
   "id": "5e487fd8-5214-45a7-9e6b-342acb2e2357",
   "metadata": {},
   "source": [
    "### Load 1% val data"
   ]
  },
  {
   "cell_type": "code",
   "execution_count": 72,
   "id": "38715405-7fba-4be0-a92d-e0e79db6d69e",
   "metadata": {},
   "outputs": [],
   "source": [
    "load_path = \"/net/noble/vol4/noble/user/anupamaj/proj/m6A-calling/data/PS00075_1_10percent.npz\"\n",
    "val_data = np.load(load_path, allow_pickle=True)\n",
    "\n",
    "X_val = val_data['X_val']\n",
    "y_val = val_data['y_val']\n",
    "\n",
    "X_val = torch.Tensor(X_val)"
   ]
  },
  {
   "cell_type": "code",
   "execution_count": 73,
   "id": "21cf75f7-881d-4513-b2cc-85d6c5d4ccb4",
   "metadata": {},
   "outputs": [],
   "source": [
    "y_val_ohe = np.zeros((len(y_val), 2))\n",
    "y_val_ohe[np.where(y_val == 1)[0], 0] = 1\n",
    "y_val_ohe[np.where(y_val == 0)[0], 1] = 1"
   ]
  },
  {
   "cell_type": "markdown",
   "id": "0cff1948-524f-4b95-b683-2be442e33eab",
   "metadata": {},
   "source": [
    "### predict using the CNN model"
   ]
  },
  {
   "cell_type": "code",
   "execution_count": 92,
   "id": "d935ff61-da54-4cd8-b176-6816ca550c9e",
   "metadata": {},
   "outputs": [],
   "source": [
    "m6a_model = torch.load(\"models/m6ANet_PS00075_no_init.3.best_semi.torch\", map_location=torch.device('cpu'))\n",
    "val_pred_cnn_all = m6a_model.predict(X_val, device='cpu').detach().numpy()\n",
    "val_pred_cnn = val_pred_cnn_all"
   ]
  },
  {
   "cell_type": "code",
   "execution_count": 86,
   "id": "b7079600-0cc6-4139-b082-3c8d61c80aaf",
   "metadata": {},
   "outputs": [
    {
     "name": "stdout",
     "output_type": "stream",
     "text": [
      "frac: 0.00392156862745098\n"
     ]
    }
   ],
   "source": [
    "frac = 1.0/255.0\n",
    "print(f\"frac: {frac}\")\n",
    "\n",
    "val_pred_cnn[val_pred_cnn[:, 0] < frac, 0] = 0"
   ]
  },
  {
   "cell_type": "code",
   "execution_count": 93,
   "id": "c9bb301e-16d5-4bc1-b08a-9261472a3c01",
   "metadata": {},
   "outputs": [
    {
     "data": {
      "image/png": "[encoded data removed]",
      "text/plain": [
       "<Figure size 432x288 with 1 Axes>"
      ]
     },
     "metadata": {
      "needs_background": "light"
     },
     "output_type": "display_data"
    }
   ],
   "source": [
    "import matplotlib.pyplot as plt\n",
    "\n",
    "plt.hist(val_pred_cnn[:, 0],  log=True, bins=100, color=\"Orange\", label=\"True m6A\")\n",
    "plt.hist(val_pred_cnn[:, 1],  log=True, bins=100, color=\"blue\", label=\"non-m6A\")\n",
    "plt.legend()\n",
    "plt.show() "
   ]
  },
  {
   "cell_type": "code",
   "execution_count": 88,
   "id": "8916607e-949d-4300-9e9e-d6828adf50ac",
   "metadata": {},
   "outputs": [
    {
     "name": "stdout",
     "output_type": "stream",
     "text": [
      "Validation IPD average precision: 0.7324980756734849\n"
     ]
    }
   ],
   "source": [
    "sklearn_ap = average_precision_score(y_val, val_pred_cnn[:, 0])\n",
    "print(f\"Validation IPD average precision: {sklearn_ap}\")"
   ]
  },
  {
   "cell_type": "code",
   "execution_count": 89,
   "id": "a49b7f50-fa21-46e4-a8f6-aa4787c4a3ce",
   "metadata": {},
   "outputs": [
    {
     "name": "stdout",
     "output_type": "stream",
     "text": [
      "Number of positives: 378241, number of negatives: 10215017, all= 10593258\n"
     ]
    }
   ],
   "source": [
    "one = np.count_nonzero(val_pred_cnn[:, 0])\n",
    "two = np.count_nonzero(val_pred_cnn[:, 1])\n",
    "\n",
    "print(f\"Number of positives: {one}, number of negatives: {two}, all= {one + two}\")"
   ]
  },
  {
   "cell_type": "code",
   "execution_count": 90,
   "id": "32630ccb-201d-4321-9c8a-398593556bdc",
   "metadata": {},
   "outputs": [
    {
     "name": "stdout",
     "output_type": "stream",
     "text": [
      "Number of positives: 484789, number of negatives: 9730228, , all= 10215017\n"
     ]
    }
   ],
   "source": [
    "one = np.count_nonzero(y_val_ohe[:, 0])\n",
    "two = np.count_nonzero(y_val_ohe[:, 1])\n",
    "\n",
    "print(f\"Number of positives: {one}, number of negatives: {two}, , all= {one + two}\")"
   ]
  },
  {
   "cell_type": "code",
   "execution_count": 91,
   "id": "e754dea7-5e60-4fbd-8806-7432c2b5eb6f",
   "metadata": {},
   "outputs": [
    {
     "name": "stdout",
     "output_type": "stream",
     "text": [
      "AU-PR CNN: 0.7324980756734849\n"
     ]
    },
    {
     "data": {
      "text/plain": [
       "[]"
      ]
     },
     "execution_count": 91,
     "metadata": {},
     "output_type": "execute_result"
    },
    {
     "data": {
      "image/png": "[encoded data removed]",
      "text/plain": [
       "<Figure size 576x360 with 1 Axes>"
      ]
     },
     "metadata": {
      "needs_background": "light"
     },
     "output_type": "display_data"
    }
   ],
   "source": [
    "plt.figure(figsize=(8,5))\n",
    "plt.axline([0,0], slope=1, c=\"white\")\n",
    "plt.axline([0,1], slope=-1, c=\"black\")\n",
    "precision, recall, thresholds = metrics.precision_recall_curve(y_val_ohe[:, 0], val_pred_cnn[:, 0], pos_label=1)\n",
    "print(f\"AU-PR CNN: {metrics.average_precision_score(y_val_ohe[:, 0], val_pred_cnn[:, 0])}\")\n",
    "plt.plot(recall, precision, c='gray', label=f\"CNN-AUPR: {metrics.average_precision_score(y_val_ohe[:, 0], val_pred_cnn[:, 0]):.03f}\")\n",
    "\n",
    "\n",
    "plt.legend(bbox_to_anchor=(1.1, 1.05))\n",
    "plt.title(\"PR curve\")\n",
    "plt.xlabel(\"Recall\")\n",
    "plt.ylabel(\"Precision\")\n",
    "#plt.xlim([0, 1])\n",
    "#plt.ylim([0, 1])\n",
    "plt.tight_layout()\n",
    "plt.savefig(\"figures/pr_compare_hifi_PS00075.png\")\n",
    "plt.plot()"
   ]
  },
  {
   "cell_type": "code",
   "execution_count": null,
   "id": "9330f390-ac4f-4007-b9b8-01064c708e83",
   "metadata": {},
   "outputs": [],
   "source": []
  }
 ],
 "metadata": {
  "kernelspec": {
   "display_name": "Python 3 (ipykernel)",
   "language": "python",
   "name": "python3"
  },
  "language_info": {
   "codemirror_mode": {
    "name": "ipython",
    "version": 3
   },
   "file_extension": ".py",
   "mimetype": "text/x-python",
   "name": "python",
   "nbconvert_exporter": "python",
   "pygments_lexer": "ipython3",
   "version": "3.8.5"
  }
 },
 "nbformat": 4,
 "nbformat_minor": 5
}

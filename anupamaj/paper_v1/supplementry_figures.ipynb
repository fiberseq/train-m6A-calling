{
 "cells": [
  {
   "cell_type": "markdown",
   "id": "c99846c0-e597-4168-a72d-3439e4483b85",
   "metadata": {},
   "source": [
    "## Semi-supervised Supplementary Figures"
   ]
  },
  {
   "cell_type": "markdown",
   "id": "8a595fd1-09fe-4d8f-a50d-716d5bb5f93a",
   "metadata": {},
   "source": [
    "In this notebook, I will plot the validation results for each of the following semi-supervised models:\n",
    "\n",
    "1. 2.2 chemistry\n",
    "2. 3.2 chemistry\n",
    "3. Revio"
   ]
  },
  {
   "cell_type": "code",
   "execution_count": null,
   "id": "4bd3b37e-7b82-4f3f-8b08-b91bf527ad9a",
   "metadata": {
    "tags": []
   },
   "outputs": [],
   "source": [
    "# Import needed libraries\n",
    "\n",
    "import numpy as np\n",
    "import configparser\n",
    "import matplotlib.pyplot as plt\n",
    "\n",
    "def simpleaxis(ax):\n",
    "    ax.spines['top'].set_visible(False)\n",
    "    ax.spines['right'].set_visible(False)\n",
    "    ax.spines['bottom'].set_visible(False)\n",
    "    ax.spines['left'].set_visible(False)\n",
    "    ax.get_xaxis().tick_bottom()\n",
    "    ax.get_yaxis().tick_left()"
   ]
  },
  {
   "cell_type": "markdown",
   "id": "4687d461-fb67-4d86-a971-e08b37d4f200",
   "metadata": {},
   "source": [
    "### Plots for 2.2, 3.2 and Revio chemistry semi-supervised model"
   ]
  },
  {
   "cell_type": "code",
   "execution_count": null,
   "id": "163b5e0e-6b99-47b7-b625-b2795d4e1d2e",
   "metadata": {},
   "outputs": [],
   "source": [
    "config_file = \"config.yml\"\n",
    "config = configparser.ConfigParser()\n",
    "config.read(config_file)\n",
    "\n",
    "# get parameters for the relevant chemistry\n",
    "rel_config = config[train_chem]\n",
    "\n",
    "semi_model_2_2_path = config[\"train_2_2_chemistry\"][\"save_pos\"]\n",
    "semi_model_3_2_path = config[\"train_3_2_chemistry\"][\"save_pos\"]\n",
    "semi_model_revio_path = config[\"train_revio_chemistry\"][\"save_pos\"]\n",
    "\n",
    "\n",
    "semi_model_2_2 = np.load(semi_model_2_2_path)\n",
    "semi_model_3_2 = np.load(semi_model_3_2_path)\n",
    "semi_model_revio = np.load(semi_model_revio_path)\n",
    "\n",
    "num_pos_2_2 = semi_model_2_2['num_pos'] \n",
    "num_pos_3_2 = semi_model_3_2['num_pos']\n",
    "num_pos_revio = semi_model_revio['num_pos'] \n",
    "\n",
    "val_ap_2_2 = semi_model_2_2['val_ap']  \n",
    "val_ap_3_2 = semi_model_3_2['val_ap'] \n",
    "val_ap_revio = semi_model_revio['val_ap'] \n",
    "\n",
    "fig, ax = plt.subplots(nrows=1, ncols=2, figsize=(18, 6))\n",
    "\n",
    "x_2_2 = np.arange(0, len(num_pos_2_2))\n",
    "ax[0].plot(x_2_2, num_pos_2_2, c=\"#A020F0\", label=\"Semi-supervised CNN (2.2)\")\n",
    "\n",
    "x_3_2 = np.arange(0, len(num_pos_3_2))\n",
    "ax[0].plot(x_3_2, num_pos_3_2, label=\"Semi-supervised CNN (3.2)\")\n",
    "\n",
    "x_revio = np.arange(0, len(num_pos_revio))\n",
    "ax[0].plot(x_revio, num_pos_revio, c=\"#F41C90\", label=\"Semi-supervised CNN (Revio)\")\n",
    "\n",
    "ax[0].set_xticks([1, 3, 5, 7, 9, 11, 13, 15, 17])\n",
    "ax[0].set_xticklabels([1, 3, 5, 7, 9, 11, 13, 15, 17])\n",
    "\n",
    "ax[0].set_ylim([-1000, 160000])\n",
    "ax[0].set_yticks([0, 20000, 40000, 60000, 80000, 100000, 120000, 140000, 160000])\n",
    "ax[0].set_yticklabels([0, 20000, 40000, 60000, 80000, 100000, 120000, 140000, 160000])\n",
    "\n",
    "\n",
    "ax[0].set_xlabel(\"epochs\", fontsize=14)\n",
    "ax[0].set_ylabel(\"#m6As identified in the validation set\", fontsize=14)\n",
    "\n",
    "simpleaxis(ax[0])\n",
    "ax[0].grid(True)\n",
    "\n",
    "ax[1].plot(x_2_2, val_ap_2_2, c=\"#A020F0\", label=\"Semi-supervised CNN (2.2)\")\n",
    "ax[1].plot(x_3_2, val_ap_3_2, label=\"Semi-supervised CNN (3.2)\")\n",
    "ax[1].plot(x_revio, val_ap_revio, c=\"#F41C90\", label=\"Semi-supervised CNN (Revio)\")\n",
    "\n",
    "ax[1].set_xticks([1, 3, 5, 7, 9, 11, 13, 15, 17])\n",
    "ax[1].set_xticklabels([1, 3, 5, 7, 9, 11, 13, 15, 17])\n",
    "\n",
    "ax[1].set_ylim([0.69, 1.04])\n",
    "ax[1].set_yticks([0.70, 0.75, 0.80, 0.85, 0.90, 0.95, 1.00, 1.05])\n",
    "ax[1].set_yticklabels([0.70, 0.75, 0.80, 0.85, 0.90, 0.95, 1.00, 1.05])\n",
    "\n",
    "ax[1].set_xlabel(\"epochs\", fontsize=14)\n",
    "ax[1].set_ylabel(\"AUPR of the validation set\", fontsize=14)\n",
    "\n",
    "simpleaxis(ax[1])\n",
    "\n",
    "ax[1].grid(True)\n",
    "\n",
    "plt.legend(bbox_to_anchor=(1.6, 1.0), fontsize=14)\n",
    "plt.tight_layout()\n",
    "plt.savefig(\"figures/sup_figure_semi_supervised.pdf\", transparent=True)\n",
    "plt.show()"
   ]
  },
  {
   "cell_type": "code",
   "execution_count": null,
   "id": "21e8a6f2-ab3a-4d89-9a0b-54fe793f1d40",
   "metadata": {},
   "outputs": [],
   "source": []
  }
 ],
 "metadata": {
  "kernelspec": {
   "display_name": "Python 3 (ipykernel)",
   "language": "python",
   "name": "python3"
  },
  "language_info": {
   "codemirror_mode": {
    "name": "ipython",
    "version": 3
   },
   "file_extension": ".py",
   "mimetype": "text/x-python",
   "name": "python",
   "nbconvert_exporter": "python",
   "pygments_lexer": "ipython3",
   "version": "3.8.5"
  }
 },
 "nbformat": 4,
 "nbformat_minor": 5
}

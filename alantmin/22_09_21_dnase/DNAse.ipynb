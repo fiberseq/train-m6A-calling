{
 "cells": [
  {
   "cell_type": "code",
   "execution_count": 1,
   "id": "58f818c8-f0af-4fb6-b51a-f98f75e6903b",
   "metadata": {},
   "outputs": [],
   "source": [
    "import pandas as pd\n",
    "import numpy as np\n",
    "import logging\n",
    "import pickle\n",
    "import sys\n",
    "sys.path.insert(1, '/net/noble/vol1/home/alantmin/hackathon/m6A-calling/')\n",
    "import m6a_calling\n"
   ]
  },
  {
   "cell_type": "code",
   "execution_count": 2,
   "id": "0345049a-0b6b-410c-b3d3-1986f72b72f3",
   "metadata": {},
   "outputs": [],
   "source": [
    "def read_fiber_data(fiber_data_file, buffer=15, subsample=1.0):\n",
    "    \"\"\"Read in the fiber data file\n",
    "\n",
    "    Args:\n",
    "        fiber_data_file (str): Tabular data generated with ft extract --all\n",
    "\n",
    "    Returns:\n",
    "        pandas.DataFrame: pandas dataframe with fiber data\n",
    "    \"\"\"\n",
    "    df = pd.read_csv(fiber_data_file, sep=\"\\t\", na_values=[\".\", \"\"])\n",
    "    logging.info(f\"Read {len(df)} fibers from {fiber_data_file}\")\n",
    "    for col in [\"m6a\", \"nuc_starts\", \"nuc_lengths\", \"ref_m6a\"]:\n",
    "        df[col].fillna(\"\", inplace=True)\n",
    "        df[col] = df[col].apply(lambda x: np.fromstring(x, sep=\",\", dtype=np.int64))\n",
    "    return df"
   ]
  },
  {
   "cell_type": "code",
   "execution_count": 3,
   "id": "366dc73f-66b5-41c4-aec0-19d35726acce",
   "metadata": {},
   "outputs": [],
   "source": [
    "fiberseq_table = read_fiber_data(\"data/aligned.fiberseq.tbl.gz\")"
   ]
  },
  {
   "cell_type": "code",
   "execution_count": null,
   "id": "b1327e7e-ac2c-4b83-bf07-def658058ab5",
   "metadata": {},
   "outputs": [],
   "source": [
    "# Load data from ML matrices \n",
    "x = np.load(\"/net/noble/vol1/home/alantmin/hackathon/m6A-calling/alantmin/data/m6A_train_more_large.npz\", allow_pickle=True)\n",
    "\n",
    "# Load the data\n",
    "X_train = x[\"save_data_dict\"][()]['X_train']\n",
    "\n",
    "# Reshape the data\n",
    "X_train = X_train.reshape(X_train.shape[0], X_train.shape[1] * X_train.shape[2])\n",
    "X_val = x[\"save_data_dict\"][()]['X_val']\n",
    "\n",
    "# Load the labels\n",
    "y_train = x[\"save_data_dict\"][()]['y_train']\n",
    "y_val = x[\"save_data_dict\"][()]['y_val']\n",
    "\n",
    "# Convert the labels to just 1 dimension\n",
    "y_train = y_train[:, 0]\n",
    "train_subread_counts = x[\"save_data_dict\"][()]['train_subread_counts']\n",
    "val_subread_counts = x[\"save_data_dict\"][()]['val_subread_counts']\n",
    "train_final_ccss = x[\"save_data_dict\"][()]['train_final_ccss']\n",
    "val_final_ccss = x[\"save_data_dict\"][()]['val_final_ccss']\n",
    "\n",
    "train_final_strands = x[\"save_data_dict\"][()]['train_final_strands']\n",
    "val_final_strands = x[\"save_data_dict\"][()]['val_final_strands']\n",
    "train_final_m6a_call_positions = x[\"save_data_dict\"][()]['train_final_m6a_call_positions']\n",
    "val_final_m6a_call_positions = x[\"save_data_dict\"][()]['val_final_m6a_call_positions']\n"
   ]
  },
  {
   "cell_type": "code",
   "execution_count": 56,
   "id": "fede09d3-c129-4ee5-a4d6-0a68c6509edb",
   "metadata": {},
   "outputs": [
    {
     "name": "stdout",
     "output_type": "stream",
     "text": [
      "(757394, 1)\n"
     ]
    }
   ],
   "source": [
    "# Load information from fiberseq data into a table\n",
    "dnase_val_df = pd.DataFrame({\"fiber\": val_final_ccss})\n",
    "print(dnase_val_df.shape)\n",
    "\n",
    "# The fiberseq data has duplicates, so we drop any entries that have duplicate fiber ids\n",
    "fiberseq_table_dedup = fiberseq_table.drop_duplicates(\"fiber\", keep=False)\n",
    "\n",
    "# Get the information from mitchell's fiberseq table and match to the ML matrix\n",
    "dnase_val_df = dnase_val_df.merge(fiberseq_table_dedup, on=\"fiber\", how=\"left\")\n",
    "\n",
    "# The strandedness inverts the indexing of the strands\n",
    "# We convert negative strand indexes by fiber_len - location - 1\n",
    "for i in range(dnase_val_df.shape[0]):\n",
    "    if dnase_val_df[\"strand\"].iloc[i] == '-':\n",
    "        fiber_length = dnase_val_df[\"fiber_length\"].iloc[i]\n",
    "        dnase_val_df.at[i, \"m6a\"] = fiber_length - dnase_val_df[\"m6a\"].iloc[i] - 1\n"
   ]
  },
  {
   "cell_type": "code",
   "execution_count": 57,
   "id": "1d72c5db-de63-46e4-b126-5a2b8d7eb8de",
   "metadata": {},
   "outputs": [],
   "source": [
    "# Get the calls from Anu's ML data matrix call positions\n",
    "dnase_val_df[\"anus_m6a\"] = val_final_m6a_call_positions"
   ]
  },
  {
   "cell_type": "code",
   "execution_count": null,
   "id": "d9d2673c-9073-4732-b8f1-1c2a1762661d",
   "metadata": {},
   "outputs": [],
   "source": [
    "# Initialize a matrix to store reference values converted from Anu's call positions\n",
    "anus_ref_m6a = np.zeros(dnase_val_df.shape[0]) - 999\n",
    "\n",
    "# Identify the reference value associated with the call position\n",
    "for i in range(dnase_val_df.shape[0]):\n",
    "    \n",
    "    # Data is only available currently for positive calls\n",
    "    if y_val[i, 0] != 0:\n",
    "        \n",
    "        # Mitchells m6a is a list of positions of m6a calls in the strand\n",
    "        mitchellsm6a = dnase_val_df[\"m6a\"].iloc[i]\n",
    "        \n",
    "        # Mitchells m6a reference is those positions, but aligned to the\n",
    "        # reference genome\n",
    "        mitchellsm6a_ref = dnase_val_df[\"ref_m6a\"].iloc[i]\n",
    "        \n",
    "        # Anu's m6a is the position call for a particular spot in the strand\n",
    "        anus_m6a = dnase_val_df[\"anus_m6a\"].iloc[i]\n",
    "        \n",
    "        # Find the position of Anu's call in Mitchell's calls\n",
    "        anus_ref_m6a_index = np.where(mitchellsm6a == anus_m6a)[0]\n",
    "        \n",
    "        # After some error checking, find the reference location of the\n",
    "        # ML matrix\n",
    "        if not np.isnan(dnase_val_df.iloc[i, 2]):\n",
    "            if anus_ref_m6a_index < len(mitchellsm6a_ref):\n",
    "                if i % 1000 == 0 : print(i)\n",
    "                anus_ref_m6a[i] = mitchellsm6a_ref[anus_ref_m6a_index]\n"
   ]
  },
  {
   "cell_type": "code",
   "execution_count": 116,
   "id": "a236cb43-413c-47af-a694-eef792c17afd",
   "metadata": {},
   "outputs": [],
   "source": [
    "position_m6a = pd.DataFrame({\"chr\": dnase_val_df[\"#ct\"], \"pos\": anus_ref_m6a})"
   ]
  },
  {
   "cell_type": "code",
   "execution_count": 120,
   "id": "4f33884c-393b-4351-9f76-32968f5e2a0c",
   "metadata": {},
   "outputs": [
    {
     "name": "stdout",
     "output_type": "stream",
     "text": [
      "(757394, 7, 15)\n",
      "(757394, 2)\n"
     ]
    }
   ],
   "source": [
    "print(X_val.shape)\n",
    "print(position_m6a.shape)"
   ]
  },
  {
   "cell_type": "code",
   "execution_count": 130,
   "id": "2a579261-7cee-4a1a-8a14-01d8421b683a",
   "metadata": {},
   "outputs": [
    {
     "name": "stderr",
     "output_type": "stream",
     "text": [
      "/net/noble/vol1/home/alantmin/miniconda3/lib/python3.7/site-packages/IPython/core/interactiveshell.py:3173: DtypeWarning: Columns (1) have mixed types.Specify dtype option on import or set low_memory=False.\n",
      "  interactivity=interactivity, compiler=compiler, result=result)\n"
     ]
    },
    {
     "data": {
      "text/html": [
       "<div>\n",
       "<style scoped>\n",
       "    .dataframe tbody tr th:only-of-type {\n",
       "        vertical-align: middle;\n",
       "    }\n",
       "\n",
       "    .dataframe tbody tr th {\n",
       "        vertical-align: top;\n",
       "    }\n",
       "\n",
       "    .dataframe thead th {\n",
       "        text-align: right;\n",
       "    }\n",
       "</style>\n",
       "<table border=\"1\" class=\"dataframe\">\n",
       "  <thead>\n",
       "    <tr style=\"text-align: right;\">\n",
       "      <th></th>\n",
       "      <th>chr</th>\n",
       "      <th>st</th>\n",
       "      <th>end</th>\n",
       "      <th>val</th>\n",
       "    </tr>\n",
       "  </thead>\n",
       "  <tbody>\n",
       "    <tr>\n",
       "      <th>0</th>\n",
       "      <td>chr1</td>\n",
       "      <td>10605</td>\n",
       "      <td>10645.0</td>\n",
       "      <td>0.000000</td>\n",
       "    </tr>\n",
       "    <tr>\n",
       "      <th>1</th>\n",
       "      <td>chr1</td>\n",
       "      <td>10785</td>\n",
       "      <td>10805.0</td>\n",
       "      <td>0.000000</td>\n",
       "    </tr>\n",
       "    <tr>\n",
       "      <th>2</th>\n",
       "      <td>chr1</td>\n",
       "      <td>10825</td>\n",
       "      <td>10845.0</td>\n",
       "      <td>0.000000</td>\n",
       "    </tr>\n",
       "    <tr>\n",
       "      <th>3</th>\n",
       "      <td>chr1</td>\n",
       "      <td>13305</td>\n",
       "      <td>13345.0</td>\n",
       "      <td>0.515631</td>\n",
       "    </tr>\n",
       "    <tr>\n",
       "      <th>4</th>\n",
       "      <td>chr1</td>\n",
       "      <td>13945</td>\n",
       "      <td>14005.0</td>\n",
       "      <td>0.000000</td>\n",
       "    </tr>\n",
       "    <tr>\n",
       "      <th>...</th>\n",
       "      <td>...</td>\n",
       "      <td>...</td>\n",
       "      <td>...</td>\n",
       "      <td>...</td>\n",
       "    </tr>\n",
       "    <tr>\n",
       "      <th>3006504</th>\n",
       "      <td>chr1</td>\n",
       "      <td>248945625</td>\n",
       "      <td>248945645.0</td>\n",
       "      <td>6.703200</td>\n",
       "    </tr>\n",
       "    <tr>\n",
       "      <th>3006505</th>\n",
       "      <td>chr1</td>\n",
       "      <td>248945645</td>\n",
       "      <td>248945685.0</td>\n",
       "      <td>7.218830</td>\n",
       "    </tr>\n",
       "    <tr>\n",
       "      <th>3006506</th>\n",
       "      <td>chr1</td>\n",
       "      <td>248945685</td>\n",
       "      <td>248945705.0</td>\n",
       "      <td>5.671940</td>\n",
       "    </tr>\n",
       "    <tr>\n",
       "      <th>3006507</th>\n",
       "      <td>chr1</td>\n",
       "      <td>248945705</td>\n",
       "      <td>248945725.0</td>\n",
       "      <td>5.156310</td>\n",
       "    </tr>\n",
       "    <tr>\n",
       "      <th>3006508</th>\n",
       "      <td>chr1</td>\n",
       "      <td>248946265</td>\n",
       "      <td>248946285.0</td>\n",
       "      <td>0.000000</td>\n",
       "    </tr>\n",
       "  </tbody>\n",
       "</table>\n",
       "<p>3006509 rows × 4 columns</p>\n",
       "</div>"
      ],
      "text/plain": [
       "          chr         st          end       val\n",
       "0        chr1      10605      10645.0  0.000000\n",
       "1        chr1      10785      10805.0  0.000000\n",
       "2        chr1      10825      10845.0  0.000000\n",
       "3        chr1      13305      13345.0  0.515631\n",
       "4        chr1      13945      14005.0  0.000000\n",
       "...       ...        ...          ...       ...\n",
       "3006504  chr1  248945625  248945645.0  6.703200\n",
       "3006505  chr1  248945645  248945685.0  7.218830\n",
       "3006506  chr1  248945685  248945705.0  5.671940\n",
       "3006507  chr1  248945705  248945725.0  5.156310\n",
       "3006508  chr1  248946265  248946285.0  0.000000\n",
       "\n",
       "[3006509 rows x 4 columns]"
      ]
     },
     "execution_count": 130,
     "metadata": {},
     "output_type": "execute_result"
    }
   ],
   "source": [
    "# Read in the DNAse data collected from UCSC\n",
    "DNAse_chr1 = pd.read_csv(\"data/DNA.HG38wgEncodeRegDnaseUwK562Signal.bw.txt\", sep=\"\\t\", header=None)\n",
    "DNAse_chr1.columns = [\"chr\", \"st\", \"end\", \"val\"]\n",
    "DNAse_chr1 = DNAse_chr1[DNAse_chr1[\"chr\"] == \"chr1\"]\n",
    "DNAse_chr1"
   ]
  },
  {
   "cell_type": "code",
   "execution_count": 209,
   "id": "3eae830f-4a6a-49bf-8852-e20a6a4af494",
   "metadata": {},
   "outputs": [
    {
     "name": "stdout",
     "output_type": "stream",
     "text": [
      "(757394,)\n",
      "(757394,)\n",
      "757394\n"
     ]
    }
   ],
   "source": [
    "\"\"\"\n",
    "This is a method that is pretty fast to go through the\n",
    "DNAse data and find where the positions from the m6a\n",
    "calls intersect with the DNAse data. It involves sorting\n",
    "the positions first and going through sequentially, and \n",
    "I think it reduces our time complexity from like n^2 to\n",
    "n log n + n (nlogn for sorting)\n",
    "\"\"\"\n",
    "\n",
    "# Initialize a matrix to collect DNAse values\n",
    "dnase_vals = np.zeros(position_m6a.shape[0])\n",
    "\n",
    "# Order the position values\n",
    "positions = position_m6a[\"pos\"].to_numpy()\n",
    "chroms = position_m6a[\"chr\"].to_numpy()\n",
    "order = np.argsort(positions)\n",
    "ordered_positions = positions[order]\n",
    "ordered_chrom = chroms[order]\n",
    "\n",
    "# This is how you undo the ordering\n",
    "undo_order = np.argsort(order)\n",
    "\n",
    "print(order.shape)\n",
    "print(undo_order.shape)\n",
    "print(sum(ordered_positions[undo_order] == positions))\n",
    "\n",
    "# Counter to leep track of where we are in the DNAse data\n",
    "encode_counter = 0\n",
    "encode_start = DNAse_chr1[\"st\"].to_numpy()\n",
    "encode_end = DNAse_chr1[\"end\"].to_numpy()\n",
    "encode_vals = DNAse_chr1[\"val\"].to_numpy()\n",
    "\n",
    "# Go through the ordered positions \n",
    "for i, pos in enumerate(ordered_positions):\n",
    "    \n",
    "    # Initialize the position to say we don't know a DNAse value\n",
    "    dnase_vals[i] = -np.inf\n",
    "    \n",
    "    # For now, we are only considering DNAse values in Chr1\n",
    "    if chroms[i] == \"chr1\":\n",
    "        \n",
    "        # Iterate encode_counter until we are ahead of the position\n",
    "        while(pos > encode_start[encode_counter]):\n",
    "            encode_counter += 1\n",
    "        \n",
    "        # If we are before the end of the position, update DNAse value\n",
    "        if encode_end[encode_counter] > pos:\n",
    "            dnase_vals[i] = encode_vals[encode_counter]\n",
    "\n",
    "# Unsort values to return\n",
    "dnase_vals = dnase_vals[undo_order]        "
   ]
  },
  {
   "cell_type": "code",
   "execution_count": 213,
   "id": "7a79b956-d287-49c4-a868-1f4153caf8ef",
   "metadata": {},
   "outputs": [
    {
     "data": {
      "text/plain": [
       "70994"
      ]
     },
     "execution_count": 213,
     "metadata": {},
     "output_type": "execute_result"
    }
   ],
   "source": [
    "# Count how many DNAse values were around\n",
    "sum(dnase_vals != -np.inf)"
   ]
  },
  {
   "cell_type": "code",
   "execution_count": 229,
   "id": "4058723a-820b-42bf-86dd-377847b4eeb4",
   "metadata": {},
   "outputs": [],
   "source": [
    "# Load the calls from our models\n",
    "\n",
    "res = np.load(\"data/m6a_dnase.npz\", allow_pickle=True)\n",
    "cnn = res[\"val_dict\"][()][\"val_pred_cnn\"]\n",
    "cnn = cnn[:, 0]\n",
    "xgb = res[\"val_dict\"][()][\"val_pred_xgb\"]"
   ]
  },
  {
   "cell_type": "code",
   "execution_count": 241,
   "id": "008f2e0d-3153-4fee-8ff7-7bc73cb3b6f6",
   "metadata": {},
   "outputs": [
    {
     "data": {
      "image/png": "[encoded data removed]",
      "text/plain": [
       "<Figure size 432x288 with 1 Axes>"
      ]
     },
     "metadata": {
      "needs_background": "light"
     },
     "output_type": "display_data"
    }
   ],
   "source": [
    "# Plot\n",
    "noinf = (dnase_vals != -np.inf)\n",
    "plt.scatter(cnn[noinf], np.log10(dnase_vals[noinf] + 1), s=10, label=\"CNN\")\n",
    "plt.scatter(xgb[noinf], np.log10(dnase_vals[noinf] + 1), s=10, label=\"XGB\")\n",
    "plt.legend()\n",
    "plt.xlabel(\"m6A Prediction Value\")\n",
    "plt.ylabel(\"log10(DNAse Signal + 1)\")\n",
    "plt.savefig(\"DNAse_vs_m6A prediction.pdf\")"
   ]
  },
  {
   "cell_type": "code",
   "execution_count": 268,
   "id": "19546832-17e4-4c25-bc2e-8ccce643a7d6",
   "metadata": {},
   "outputs": [
    {
     "data": {
      "text/plain": [
       "Text(0, 0.5, 'log10(DNAse + 1)')"
      ]
     },
     "execution_count": 268,
     "metadata": {},
     "output_type": "execute_result"
    },
    {
     "data": {
      "image/png": "[encoded data removed]",
      "text/plain": [
       "<Figure size 432x288 with 1 Axes>"
      ]
     },
     "metadata": {
      "needs_background": "light"
     },
     "output_type": "display_data"
    }
   ],
   "source": [
    "# Plot\n",
    "plot_dnase = dnase_vals[noinf]\n",
    "plot_cnn = cnn[noinf]\n",
    "plot_xgb = xgb[noinf]\n",
    "cnn_g8 = np.repeat(\">0.8\", plot_cnn.shape[0])\n",
    "cnn_g8[plot_cnn < .8] = \"<0.8\"\n",
    "xgb_g8 = np.repeat(\">0.8\", plot_cnn.shape[0])\n",
    "xgb_g8[plot_xgb < .8] = \"<0.8\"\n",
    "\n",
    "df = pd.DataFrame({\"DNAse\": np.log10(plot_dnase + 1), \"CNN\": cnn_g8, \"XGB\": xgb_g8})\n",
    "df_melt = df.melt(id_vars = \"DNAse\")\n",
    "df_melt.columns = ['DNAse', 'model', '>0.8']\n",
    "df_melt\n",
    "sns.boxplot(data=df_melt, x=\">0.8\", y=\"DNAse\", hue=\"model\")\n",
    "plt.xlabel(\"Value of Prediction\")\n",
    "plt.ylabel(\"log10(DNAse + 1)\")"
   ]
  }
 ],
 "metadata": {
  "kernelspec": {
   "display_name": "Python 3",
   "language": "python",
   "name": "python3"
  },
  "language_info": {
   "codemirror_mode": {
    "name": "ipython",
    "version": 3
   },
   "file_extension": ".py",
   "mimetype": "text/x-python",
   "name": "python",
   "nbconvert_exporter": "python",
   "pygments_lexer": "ipython3",
   "version": "3.7.7"
  }
 },
 "nbformat": 4,
 "nbformat_minor": 5
}

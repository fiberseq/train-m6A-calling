{
 "cells": [
  {
   "cell_type": "code",
   "execution_count": 62,
   "id": "44eaa95c-34c7-4655-807e-a4302cfbf623",
   "metadata": {},
   "outputs": [],
   "source": [
    "import numpy as np\n",
    "import torch\n",
    "import matplotlib.pyplot as plt\n",
    "import sklearn.metrics as metrics\n",
    "import pandas as pd\n",
    "import pickle"
   ]
  },
  {
   "cell_type": "code",
   "execution_count": 66,
   "id": "5cb5d5dc-7c54-4cf7-9329-9e008b81711f",
   "metadata": {},
   "outputs": [],
   "source": [
    "def get_fdr_by_rank(pred, label):\n",
    "    order = np.argsort(-pred)\n",
    "    ord_label = label[order]\n",
    "    fdr = np.zeros(ord_label.shape)\n",
    "    negative_label = 0\n",
    "    cts_negative = 0 \n",
    "    max_fdr = 0\n",
    "    for i, val in enumerate(ord_label):\n",
    "        if val == negative_label:\n",
    "            cts_negative += 1\n",
    "        max_fdr = max(cts_negative / (i + 1), max_fdr)\n",
    "        fdr[i] = max_fdr\n",
    "    return(fdr)\n",
    "import torch\n",
    "import numpy as np\n",
    "import matplotlib.pyplot as plt\n",
    "import sklearn.metrics as metrics\n",
    "import pandas as pd\n",
    "import pickle\n",
    "\n",
    "class DataGenerator(torch.utils.data.Dataset):\n",
    "    \"\"\"\n",
    "    Data generator for the m6A model. It randomly selects\n",
    "    batches from the data to train the m6A model.\n",
    "    \"\"\"\n",
    "    def __init__(self, features, labels, random_state=None):\n",
    "        \"\"\"\n",
    "        Constructor for the data generator class, expects features\n",
    "        and labels matrices.\n",
    "        :param features: numpy.array, Nx15, N=number of sequences,\n",
    "                                      each sequence is of length 15.\n",
    "        :param labels: numpy array, one hot encoded labels for whether\n",
    "                                    a sequence in features variable contains\n",
    "                                    methylated A or not.\n",
    "        :param random_state: numpy.random_state, allow reproducibility by selecting\n",
    "                                                 a seed for random operations beforehand.\n",
    "        \"\"\"\n",
    "        self.random_state = random_state\n",
    "        self.features = features\n",
    "        self.labels = labels\n",
    "\n",
    "    def __len__(self):\n",
    "        return len(self.features)\n",
    "\n",
    "    def __getitem__(self, idx):\n",
    "        \"\"\"\n",
    "        Get random indices from the training data\n",
    "        to form batches.\n",
    "        :param idx: numpy.array, indices to retrieve, ignoring for now.\n",
    "        :return: x, y: features and labels from selected indices.\n",
    "        \"\"\"\n",
    "        i = self.random_state.choice(len(self.features))\n",
    "\n",
    "        x = self.features[i]\n",
    "        y = self.labels[i]\n",
    "\n",
    "        x = torch.tensor(x)\n",
    "        y = torch.tensor(y)\n",
    "\n",
    "        return x, y\n",
    "\n",
    "\n",
    "def m6AGenerator(data_path, random_state=None, pin_memory=True,\n",
    "                 num_workers=0, batch_size=32):\n",
    "    \"\"\"\n",
    "    This generator returns a training data generator as well as\n",
    "    validation features and labels\n",
    "    :param data_path: str, path where the data matrix is stored.\n",
    "    :param random_state: int, seed for numpy random_state.\n",
    "    :param pin_memory: bool, Makes CUDA efficient by skipping one copy\n",
    "                             operation, true by default.\n",
    "    :param num_workers: int, number of worker threads the generator can\n",
    "                             utilize, 0 by default.\n",
    "    :param batch_size: int, number of examples in each batch\n",
    "    :return: X_gen: training data generator, X_val: validation features, y_val: validation labels\n",
    "    \"\"\"\n",
    "    # initialize Random state\n",
    "    random_state = np.random.RandomState(random_state)\n",
    "\n",
    "    # Load training and validation data\n",
    "    train_val_data = np.load(data_path, allow_pickle=True)\n",
    "\n",
    "    # Get the dictionary from the containing relevant data\n",
    "    train_val_data = train_val_data['save_data_dict'][()]\n",
    "\n",
    "    # Load training and validation features and labels\n",
    "    X_train = train_val_data['X_train']\n",
    "    y_train = train_val_data['y_train']\n",
    "    X_val = train_val_data['X_val']\n",
    "    y_val = train_val_data['y_val']\n",
    "\n",
    "    print(f\"Training features shape {X_train.shape}, training labels shape: {y_train.shape}\")\n",
    "    print(f\"Validation features shape {X_val.shape}, validation labels shape: {y_val.shape}\")\n",
    "\n",
    "    # Get the training data generator\n",
    "    X_gen = DataGenerator(X_train,\n",
    "                          y_train,\n",
    "                          random_state=random_state)\n",
    "\n",
    "    # Wrap it in a data loader\n",
    "    X_gen = torch.utils.data.DataLoader(X_gen,\n",
    "                                        pin_memory=pin_memory,\n",
    "                                        num_workers=num_workers,\n",
    "                                        batch_size=batch_size)\n",
    "\n",
    "    return X_gen, (X_val, y_val)\n",
    "\n",
    "class LogisticRegression(torch.nn.Module):\n",
    "    def __init__(self, input_dim, output_dim):\n",
    "        super(LogisticRegression, self).__init__()\n",
    "        self.linear = torch.nn.Linear(input_dim, output_dim)\n",
    "    def forward(self, x):\n",
    "        outputs = torch.sigmoid(self.linear(x))\n",
    "        return outputs"
   ]
  },
  {
   "cell_type": "markdown",
   "id": "485da32d-4269-472a-96e2-058cbc7752ad",
   "metadata": {},
   "source": [
    "# Using some sort of FDR test for the logistic regression model"
   ]
  },
  {
   "cell_type": "code",
   "execution_count": 84,
   "id": "545115e9-fa2c-429d-8ce8-05a33f9de5fa",
   "metadata": {},
   "outputs": [
    {
     "name": "stdout",
     "output_type": "stream",
     "text": [
      "Training features shape (2532297, 7, 15), training labels shape: (2532297, 2)\n",
      "Validation features shape (844099, 7, 15), validation labels shape: (844099, 2)\n"
     ]
    }
   ],
   "source": [
    "# Loading code from Anu\n",
    "X_train, (X_val, y_val) = m6AGenerator(\"data/m6A_train_more_large.npz\", random_state=None, pin_memory=True, num_workers=2, batch_size=1000)\n",
    "X_val_flat = X_val.reshape(X_val.shape[0], X_val.shape[1] * X_val.shape[2])"
   ]
  },
  {
   "cell_type": "code",
   "execution_count": 85,
   "id": "47b1266d-7670-4356-a238-5ba83532cc57",
   "metadata": {},
   "outputs": [
    {
     "name": "stdout",
     "output_type": "stream",
     "text": [
      "[0. 0. 0. ... 0. 0. 0.]\n"
     ]
    },
    {
     "data": {
      "text/plain": [
       "[<matplotlib.lines.Line2D at 0x7f0e324ce4d0>]"
      ]
     },
     "execution_count": 85,
     "metadata": {},
     "output_type": "execute_result"
    },
    {
     "data": {
      "image/png": "[encoded data removed]",
      "text/plain": [
       "<Figure size 432x288 with 1 Axes>"
      ]
     },
     "metadata": {
      "needs_background": "light"
     },
     "output_type": "display_data"
    }
   ],
   "source": [
    "model = pickle.load(open(\"output_models/m6A_train_more_large.pickle\", \"rb\"))\n",
    "\n",
    "y_pred = model(torch.tensor(X_val_flat).float()).detach().numpy()\n",
    "y_obs = y_val[:, 0]\n",
    "\n",
    "order = np.argsort(-y_pred.flatten())\n",
    "print(y_obs[order])\n",
    "\n",
    "plt.plot(get_fdr_by_rank(y_pred, y_obs))"
   ]
  },
  {
   "cell_type": "markdown",
   "id": "97f4c774-0e8e-4af6-860d-3d4c72a59a50",
   "metadata": {},
   "source": [
    "# Using some sort of FDR data for the CNN model"
   ]
  },
  {
   "cell_type": "code",
   "execution_count": 80,
   "id": "8ead1ba2-7fb5-4d4f-8c2c-260f995d990c",
   "metadata": {},
   "outputs": [
    {
     "data": {
      "text/plain": [
       "[<matplotlib.lines.Line2D at 0x7f0e32b0ce10>]"
      ]
     },
     "execution_count": 80,
     "metadata": {},
     "output_type": "execute_result"
    },
    {
     "data": {
      "image/png": "[encoded data removed]",
      "text/plain": [
       "<Figure size 432x288 with 1 Axes>"
      ]
     },
     "metadata": {
      "needs_background": "light"
     },
     "output_type": "display_data"
    }
   ],
   "source": [
    "cnn = pickle.load(open(\"../anupamaj/cnn_predictions.pickle\", \"rb\"))\n",
    "y_val = cnn[\"y_val\"][:, 0]\n",
    "val_pred = cnn[\"val_pred\"][:, 0]\n",
    "\n",
    "order = np.argsort(-val_pred)\n",
    "\n",
    "plt.plot(get_fdr_by_rank(val_pred, y_val))"
   ]
  },
  {
   "cell_type": "code",
   "execution_count": null,
   "id": "73228e3b-a856-4720-8c78-1ae7cfcc8013",
   "metadata": {},
   "outputs": [],
   "source": []
  }
 ],
 "metadata": {
  "kernelspec": {
   "display_name": "Python 3",
   "language": "python",
   "name": "python3"
  },
  "language_info": {
   "codemirror_mode": {
    "name": "ipython",
    "version": 3
   },
   "file_extension": ".py",
   "mimetype": "text/x-python",
   "name": "python",
   "nbconvert_exporter": "python",
   "pygments_lexer": "ipython3",
   "version": "3.7.7"
  }
 },
 "nbformat": 4,
 "nbformat_minor": 5
}
